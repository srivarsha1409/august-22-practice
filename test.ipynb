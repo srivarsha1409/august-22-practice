{
 "cells": [
  {
   "cell_type": "code",
   "execution_count": 2,
   "id": "57ee3ab4",
   "metadata": {},
   "outputs": [],
   "source": [
    "import pandas as pd\n",
    "from sklearn.model_selection import train_test_split\n",
    "from sklearn.preprocessing import StandardScaler\n",
    "from sklearn.linear_model import LogisticRegression\n",
    "from sklearn.metrics import accuracy_score, precision_score, recall_score, f1_score, roc_auc_score, confusion_matrix"
   ]
  },
  {
   "cell_type": "code",
   "execution_count": null,
   "id": "74ea8849",
   "metadata": {},
   "outputs": [
    {
     "name": "stdout",
     "output_type": "stream",
     "text": [
      "Accuracy: 0.475\n",
      "Precision: 0.2\n",
      "Recall: 0.05555555555555555\n",
      "F1: 0.08695652173913043\n",
      "ROC-AUC: 0.31313131313131315\n",
      "Confusion Matrix:\n",
      " [[18  4]\n",
      " [17  1]]\n"
     ]
    }
   ],
   "source": [
    "#email spam\n",
    "data = pd.read_csv(\"D:/ai workforce/22 august practice/email_spam.csv\")\n",
    "\n",
    "\n",
    "X = data[[\"word_free\", \"word_offer\", \"word_click\", \"num_links\", \"num_caps\", \"sender_reputation\"]]\n",
    "y = data[\"is_spam\"]\n",
    "\n",
    "X_train, X_test, y_train, y_test = train_test_split(X, y, test_size=0.2, stratify=y, random_state=42)\n",
    "\n",
    "\n",
    "scaler = StandardScaler()\n",
    "X_train = scaler.fit_transform(X_train)\n",
    "X_test = scaler.transform(X_test)\n",
    "\n",
    "\n",
    "model = LogisticRegression()\n",
    "model.fit(X_train, y_train)\n",
    "\n",
    "\n",
    "y_pred = model.predict(X_test)\n",
    "y_prob = model.predict_proba(X_test)[:, 1]\n",
    "\n",
    "\n",
    "print(\"Accuracy:\", accuracy_score(y_test, y_pred))\n",
    "print(\"Precision:\", precision_score(y_test, y_pred))\n",
    "print(\"Recall:\", recall_score(y_test, y_pred))\n",
    "print(\"F1:\", f1_score(y_test, y_pred))\n",
    "print(\"roc-auc:\", roc_auc_score(y_test, y_prob))\n",
    "print(\"Confusion Matrix:\\n\", confusion_matrix(y_test, y_pred))\n"
   ]
  },
  {
   "cell_type": "code",
   "execution_count": null,
   "id": "b9e3d39e",
   "metadata": {},
   "outputs": [
    {
     "name": "stdout",
     "output_type": "stream",
     "text": [
      "Accuracy: 0.525\n",
      "Precision: 0.5416666666666666\n",
      "Recall: 0.6190476190476191\n",
      "F1: 0.5777777777777777\n",
      "roc-auc: 0.4736842105263158\n",
      "Confusion Matrix:\n",
      " [[ 8 11]\n",
      " [ 8 13]]\n"
     ]
    }
   ],
   "source": [
    "\n",
    "#customer churn \n",
    "data = pd.read_csv(\"D:/ai workforce/22 august practice/customer_churn.csv\")\n",
    "\n",
    "\n",
    "X = data[[\"tenure_months\", \"monthly_charges\", \"support_tickets\", \"is_premium\", \"avg_usage_hours\"]]\n",
    "y = data[\"churn\"]\n",
    "\n",
    "\n",
    "X_train, X_test, y_train, y_test = train_test_split(X, y, test_size=0.2, stratify=y, random_state=42)\n",
    "\n",
    "\n",
    "s = StandardScaler()\n",
    "X_train = s.fit_transform(X_train)\n",
    "X_test = s.transform(X_test)\n",
    "\n",
    "\n",
    "m = LogisticRegression()\n",
    "m.fit(X_train, y_train)\n",
    "\n",
    "y_pred = m.predict(X_test)\n",
    "y_prob = m.predict_proba(X_test)[:, 1]\n",
    "\n",
    "\n",
    "print(\"Accuracy:\", accuracy_score(y_test, y_pred))\n",
    "print(\"Precision:\", precision_score(y_test, y_pred))\n",
    "print(\"Recall:\", recall_score(y_test, y_pred))\n",
    "print(\"F1:\", f1_score(y_test, y_pred))\n",
    "print(\"roc-auc:\", roc_auc_score(y_test, y_prob))\n",
    "print(\"Confusion Matrix:\\n\", confusion_matrix(y_test, y_pred))\n"
   ]
  },
  {
   "cell_type": "code",
   "execution_count": null,
   "id": "b43156a0",
   "metadata": {},
   "outputs": [
    {
     "name": "stdout",
     "output_type": "stream",
     "text": [
      "Accuracy: 0.325\n",
      "Macro-F1: 0.2833333333333333\n",
      "Weighted-F1: 0.29500000000000004\n",
      "Confusion Matrix:\n",
      " [[9 3 3]\n",
      " [6 1 6]\n",
      " [6 3 3]]\n",
      "Classification Report:\n",
      "               precision    recall  f1-score   support\n",
      "\n",
      "           0       0.43      0.60      0.50        15\n",
      "           1       0.14      0.08      0.10        13\n",
      "           2       0.25      0.25      0.25        12\n",
      "\n",
      "    accuracy                           0.33        40\n",
      "   macro avg       0.27      0.31      0.28        40\n",
      "weighted avg       0.28      0.33      0.30        40\n",
      "\n"
     ]
    },
    {
     "name": "stderr",
     "output_type": "stream",
     "text": [
      "d:\\ai workforce\\22 august practice\\venv\\Lib\\site-packages\\sklearn\\linear_model\\_logistic.py:1272: FutureWarning: 'multi_class' was deprecated in version 1.5 and will be removed in 1.7. From then on, it will always use 'multinomial'. Leave it to its default value to avoid this warning.\n",
      "  warnings.warn(\n"
     ]
    }
   ],
   "source": [
    "#disease stage \n",
    "from sklearn.metrics import classification_report\n",
    "\n",
    "data = pd.read_csv(\"D:/ai workforce/22 august practice/disease_stage.csv\")\n",
    "\n",
    "X = data[[\"age\", \"b1\", \"b2\", \"b3\", \"b4\"]]\n",
    "y = data[\"stage\"]\n",
    "\n",
    "X_train, X_test, y_train, y_test = train_test_split(X, y, test_size=0.2, stratify=y, random_state=42)\n",
    "\n",
    "\n",
    "scaler = StandardScaler()\n",
    "X_train = scaler.fit_transform(X_train)\n",
    "X_test = scaler.transform(X_test)\n",
    "\n",
    "m = LogisticRegression(multi_class=\"multinomial\", max_iter=1000)\n",
    "m.fit(X_train, y_train)\n",
    "\n",
    "y_pred = m.predict(X_test)\n",
    "\n",
    "\n",
    "print(\"Accuracy:\", accuracy_score(y_test, y_pred))\n",
    "print(\"Macro-F1:\", f1_score(y_test, y_pred, average=\"macro\"))\n",
    "print(\"Weighted-F1:\", f1_score(y_test, y_pred, average=\"weighted\"))\n",
    "print(\"Confusion Matrix:\\n\", confusion_matrix(y_test, y_pred))\n",
    "print(\"Classification Report:\\n\", classification_report(y_test, y_pred))\n"
   ]
  },
  {
   "cell_type": "code",
   "execution_count": 22,
   "id": "c872549f",
   "metadata": {},
   "outputs": [
    {
     "name": "stdout",
     "output_type": "stream",
     "text": [
      "Best k: 17\n",
      "CV Accuracy: 0.4125\n",
      "Test Accuracy: 0.325\n",
      "Confusion Matrix:\n",
      " [[7 3 4]\n",
      " [7 1 5]\n",
      " [6 2 5]]\n"
     ]
    }
   ],
   "source": [
    "\n",
    "from sklearn.model_selection import train_test_split, cross_val_score\n",
    "from sklearn.preprocessing import StandardScaler\n",
    "from sklearn.neighbors import KNeighborsClassifier\n",
    "from sklearn.metrics import accuracy_score, confusion_matrix\n",
    "\n",
    "\n",
    "\n",
    "df = pd.read_csv(\"flowers.csv\")\n",
    "\n",
    "\n",
    "X = df[[\"sepal_length\", \"sepal_width\", \"petal_length\", \"petal_width\"]]\n",
    "y = df[\"species\"]\n",
    "\n",
    "\n",
    "X_train, X_test, y_train, y_test = train_test_split(X, y, test_size=0.2, random_state=0, stratify=y)\n",
    "\n",
    "\n",
    "scaler = StandardScaler()\n",
    "X_train = scaler.fit_transform(X_train)\n",
    "X_test = scaler.transform(X_test)\n",
    "\n",
    "\n",
    "k_list = list(range(1, 26, 2))  # odd numbers 1,3,5,...25\n",
    "cv_scores = []\n",
    "\n",
    "for k in k_list:\n",
    "    knn = KNeighborsClassifier(n_neighbors=k)\n",
    "    scores = cross_val_score(knn, X_train, y_train, cv=5)\n",
    "    cv_scores.append(scores.mean())\n",
    "\n",
    "best_k = k_list[np.argmax(cv_scores)]\n",
    "\n",
    "\n",
    "knn = KNeighborsClassifier(n_neighbors=best_k)\n",
    "knn.fit(X_train, y_train)\n",
    "\n",
    "\n",
    "y_pred = knn.predict(X_test)\n",
    "\n",
    "\n",
    "print(\"Best k:\", best_k)\n",
    "print(\"CV Accuracy:\", max(cv_scores))\n",
    "print(\"Test Accuracy:\", accuracy_score(y_test, y_pred))\n",
    "print(\"Confusion Matrix:\\n\", confusion_matrix(y_test, y_pred))\n"
   ]
  },
  {
   "cell_type": "code",
   "execution_count": null,
   "id": "3ae34429",
   "metadata": {},
   "outputs": [
    {
     "name": "stdout",
     "output_type": "stream",
     "text": [
      "Best k: 25\n",
      "CV RMSE: 137.69442189231899\n",
      "Test RMSE: 129.06188111425982\n",
      "Test R²: -0.16741187580272143\n"
     ]
    }
   ],
   "source": [
    "import pandas as pd\n",
    "import numpy as np\n",
    "from sklearn.model_selection import train_test_split, cross_val_score\n",
    "from sklearn.preprocessing import StandardScaler\n",
    "from sklearn.neighbors import KNeighborsRegressor\n",
    "from sklearn.metrics import mean_squared_error, r2_score\n",
    "import numpy as np\n",
    "\n",
    "df = pd.read_csv(\"airbnb.csv\")\n",
    "\n",
    "\n",
    "X = df[[\"size_m2\", \"distance_center_km\", \"rating\", \"num_reviews\"]]\n",
    "y = df[\"price\"]\n",
    "\n",
    "X_train, X_test, y_train, y_test = train_test_split(X, y, test_size=0.2, random_state=0)\n",
    "\n",
    "\n",
    "scaler = StandardScaler()\n",
    "X_train = scaler.fit_transform(X_train)\n",
    "X_test = scaler.transform(X_test)\n",
    "\n",
    "\n",
    "k_list = list(range(1, 26, 2))\n",
    "cv_rmse = []\n",
    "\n",
    "for k in k_list:\n",
    "    knn = KNeighborsRegressor(n_neighbors=k)\n",
    "    scores = cross_val_score(knn, X_train, y_train, cv=5,\n",
    "                             scoring=\"neg_root_mean_squared_error\")\n",
    "    cv_rmse.append(-scores.mean())  # make positive RMSE\n",
    "\n",
    "\n",
    "best_k = k_list[np.argmin(cv_rmse)]\n",
    "\n",
    "\n",
    "knn = KNeighborsRegressor(n_neighbors=best_k)\n",
    "knn.fit(X_train, y_train)\n",
    "\n",
    "\n",
    "y_pred = knn.predict(X_test)\n",
    "\n",
    "\n",
    "print(\"Best k:\", best_k)\n",
    "print(\"CV RMSE:\", min(cv_rmse))\n",
    "print(\"Test RMSE:\", np.sqrt(mean_squared_error(y_test, y_pred)))\n",
    "print(\"Test R²:\", r2_score(y_test, y_pred))\n"
   ]
  }
 ],
 "metadata": {
  "kernelspec": {
   "display_name": "Python 3",
   "language": "python",
   "name": "python3"
  },
  "language_info": {
   "codemirror_mode": {
    "name": "ipython",
    "version": 3
   },
   "file_extension": ".py",
   "mimetype": "text/x-python",
   "name": "python",
   "nbconvert_exporter": "python",
   "pygments_lexer": "ipython3",
   "version": "3.13.0"
  }
 },
 "nbformat": 4,
 "nbformat_minor": 5
}
